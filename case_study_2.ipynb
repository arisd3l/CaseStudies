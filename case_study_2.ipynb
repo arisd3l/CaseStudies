{
  "nbformat": 4,
  "nbformat_minor": 0,
  "metadata": {
    "colab": {
      "provenance": []
    },
    "kernelspec": {
      "name": "python3",
      "display_name": "Python 3"
    },
    "language_info": {
      "name": "python"
    }
  },
  "cells": [
    {
      "cell_type": "code",
      "execution_count": 2,
      "metadata": {
        "id": "Ss0NMgsZCDm8"
      },
      "outputs": [],
      "source": [
        "# import necessary libraries\n",
        "import pandas as pd\n",
        "import matplotlib.pyplot as plt\n",
        "import seaborn as sns\n",
        "import datetime\n"
      ]
    },
    {
      "cell_type": "code",
      "source": [
        "from google.colab import drive \n",
        "drive.mount('/content/gdrive')"
      ],
      "metadata": {
        "colab": {
          "base_uri": "https://localhost:8080/"
        },
        "id": "2onwYHFGCfPt",
        "outputId": "50e7e9cb-c061-4022-bc84-f517c998b3c6"
      },
      "execution_count": 3,
      "outputs": [
        {
          "output_type": "stream",
          "name": "stdout",
          "text": [
            "Mounted at /content/gdrive\n"
          ]
        }
      ]
    },
    {
      "cell_type": "code",
      "source": [
        "# read in the dataset\n",
        "df = pd.read_csv('gdrive/My Drive/casestudy.csv')"
      ],
      "metadata": {
        "id": "FBkIVQM1CfQ9"
      },
      "execution_count": 4,
      "outputs": []
    },
    {
      "cell_type": "code",
      "source": [
        "df.head()"
      ],
      "metadata": {
        "colab": {
          "base_uri": "https://localhost:8080/",
          "height": 206
        },
        "id": "Voblx78EC95W",
        "outputId": "e1e91758-93c6-43ec-8dd8-697eac38d6e3"
      },
      "execution_count": 5,
      "outputs": [
        {
          "output_type": "execute_result",
          "data": {
            "text/plain": [
              "   Unnamed: 0         customer_email  net_revenue  year\n",
              "0           0   nhknapwsbx@gmail.com       249.92  2015\n",
              "1           1   joiuzbvcpn@gmail.com        87.61  2015\n",
              "2           2   ukkjctepxt@gmail.com       168.38  2015\n",
              "3           3   gykatilzrt@gmail.com        62.40  2015\n",
              "4           4   mmsgsrtxah@gmail.com        43.08  2015"
            ],
            "text/html": [
              "\n",
              "  <div id=\"df-2e3ef910-d038-4b6c-8ba2-7f7ca77a5daa\">\n",
              "    <div class=\"colab-df-container\">\n",
              "      <div>\n",
              "<style scoped>\n",
              "    .dataframe tbody tr th:only-of-type {\n",
              "        vertical-align: middle;\n",
              "    }\n",
              "\n",
              "    .dataframe tbody tr th {\n",
              "        vertical-align: top;\n",
              "    }\n",
              "\n",
              "    .dataframe thead th {\n",
              "        text-align: right;\n",
              "    }\n",
              "</style>\n",
              "<table border=\"1\" class=\"dataframe\">\n",
              "  <thead>\n",
              "    <tr style=\"text-align: right;\">\n",
              "      <th></th>\n",
              "      <th>Unnamed: 0</th>\n",
              "      <th>customer_email</th>\n",
              "      <th>net_revenue</th>\n",
              "      <th>year</th>\n",
              "    </tr>\n",
              "  </thead>\n",
              "  <tbody>\n",
              "    <tr>\n",
              "      <th>0</th>\n",
              "      <td>0</td>\n",
              "      <td>nhknapwsbx@gmail.com</td>\n",
              "      <td>249.92</td>\n",
              "      <td>2015</td>\n",
              "    </tr>\n",
              "    <tr>\n",
              "      <th>1</th>\n",
              "      <td>1</td>\n",
              "      <td>joiuzbvcpn@gmail.com</td>\n",
              "      <td>87.61</td>\n",
              "      <td>2015</td>\n",
              "    </tr>\n",
              "    <tr>\n",
              "      <th>2</th>\n",
              "      <td>2</td>\n",
              "      <td>ukkjctepxt@gmail.com</td>\n",
              "      <td>168.38</td>\n",
              "      <td>2015</td>\n",
              "    </tr>\n",
              "    <tr>\n",
              "      <th>3</th>\n",
              "      <td>3</td>\n",
              "      <td>gykatilzrt@gmail.com</td>\n",
              "      <td>62.40</td>\n",
              "      <td>2015</td>\n",
              "    </tr>\n",
              "    <tr>\n",
              "      <th>4</th>\n",
              "      <td>4</td>\n",
              "      <td>mmsgsrtxah@gmail.com</td>\n",
              "      <td>43.08</td>\n",
              "      <td>2015</td>\n",
              "    </tr>\n",
              "  </tbody>\n",
              "</table>\n",
              "</div>\n",
              "      <button class=\"colab-df-convert\" onclick=\"convertToInteractive('df-2e3ef910-d038-4b6c-8ba2-7f7ca77a5daa')\"\n",
              "              title=\"Convert this dataframe to an interactive table.\"\n",
              "              style=\"display:none;\">\n",
              "        \n",
              "  <svg xmlns=\"http://www.w3.org/2000/svg\" height=\"24px\"viewBox=\"0 0 24 24\"\n",
              "       width=\"24px\">\n",
              "    <path d=\"M0 0h24v24H0V0z\" fill=\"none\"/>\n",
              "    <path d=\"M18.56 5.44l.94 2.06.94-2.06 2.06-.94-2.06-.94-.94-2.06-.94 2.06-2.06.94zm-11 1L8.5 8.5l.94-2.06 2.06-.94-2.06-.94L8.5 2.5l-.94 2.06-2.06.94zm10 10l.94 2.06.94-2.06 2.06-.94-2.06-.94-.94-2.06-.94 2.06-2.06.94z\"/><path d=\"M17.41 7.96l-1.37-1.37c-.4-.4-.92-.59-1.43-.59-.52 0-1.04.2-1.43.59L10.3 9.45l-7.72 7.72c-.78.78-.78 2.05 0 2.83L4 21.41c.39.39.9.59 1.41.59.51 0 1.02-.2 1.41-.59l7.78-7.78 2.81-2.81c.8-.78.8-2.07 0-2.86zM5.41 20L4 18.59l7.72-7.72 1.47 1.35L5.41 20z\"/>\n",
              "  </svg>\n",
              "      </button>\n",
              "      \n",
              "  <style>\n",
              "    .colab-df-container {\n",
              "      display:flex;\n",
              "      flex-wrap:wrap;\n",
              "      gap: 12px;\n",
              "    }\n",
              "\n",
              "    .colab-df-convert {\n",
              "      background-color: #E8F0FE;\n",
              "      border: none;\n",
              "      border-radius: 50%;\n",
              "      cursor: pointer;\n",
              "      display: none;\n",
              "      fill: #1967D2;\n",
              "      height: 32px;\n",
              "      padding: 0 0 0 0;\n",
              "      width: 32px;\n",
              "    }\n",
              "\n",
              "    .colab-df-convert:hover {\n",
              "      background-color: #E2EBFA;\n",
              "      box-shadow: 0px 1px 2px rgba(60, 64, 67, 0.3), 0px 1px 3px 1px rgba(60, 64, 67, 0.15);\n",
              "      fill: #174EA6;\n",
              "    }\n",
              "\n",
              "    [theme=dark] .colab-df-convert {\n",
              "      background-color: #3B4455;\n",
              "      fill: #D2E3FC;\n",
              "    }\n",
              "\n",
              "    [theme=dark] .colab-df-convert:hover {\n",
              "      background-color: #434B5C;\n",
              "      box-shadow: 0px 1px 3px 1px rgba(0, 0, 0, 0.15);\n",
              "      filter: drop-shadow(0px 1px 2px rgba(0, 0, 0, 0.3));\n",
              "      fill: #FFFFFF;\n",
              "    }\n",
              "  </style>\n",
              "\n",
              "      <script>\n",
              "        const buttonEl =\n",
              "          document.querySelector('#df-2e3ef910-d038-4b6c-8ba2-7f7ca77a5daa button.colab-df-convert');\n",
              "        buttonEl.style.display =\n",
              "          google.colab.kernel.accessAllowed ? 'block' : 'none';\n",
              "\n",
              "        async function convertToInteractive(key) {\n",
              "          const element = document.querySelector('#df-2e3ef910-d038-4b6c-8ba2-7f7ca77a5daa');\n",
              "          const dataTable =\n",
              "            await google.colab.kernel.invokeFunction('convertToInteractive',\n",
              "                                                     [key], {});\n",
              "          if (!dataTable) return;\n",
              "\n",
              "          const docLinkHtml = 'Like what you see? Visit the ' +\n",
              "            '<a target=\"_blank\" href=https://colab.research.google.com/notebooks/data_table.ipynb>data table notebook</a>'\n",
              "            + ' to learn more about interactive tables.';\n",
              "          element.innerHTML = '';\n",
              "          dataTable['output_type'] = 'display_data';\n",
              "          await google.colab.output.renderOutput(dataTable, element);\n",
              "          const docLink = document.createElement('div');\n",
              "          docLink.innerHTML = docLinkHtml;\n",
              "          element.appendChild(docLink);\n",
              "        }\n",
              "      </script>\n",
              "    </div>\n",
              "  </div>\n",
              "  "
            ]
          },
          "metadata": {},
          "execution_count": 5
        }
      ]
    },
    {
      "cell_type": "code",
      "source": [
        "df = df.iloc[: , 1:]\n",
        "df.head()"
      ],
      "metadata": {
        "id": "V1gT_sznDFSA",
        "colab": {
          "base_uri": "https://localhost:8080/",
          "height": 206
        },
        "outputId": "1d2bbf16-ef6e-452f-9a10-fb3efe2b1050"
      },
      "execution_count": 6,
      "outputs": [
        {
          "output_type": "execute_result",
          "data": {
            "text/plain": [
              "          customer_email  net_revenue  year\n",
              "0   nhknapwsbx@gmail.com       249.92  2015\n",
              "1   joiuzbvcpn@gmail.com        87.61  2015\n",
              "2   ukkjctepxt@gmail.com       168.38  2015\n",
              "3   gykatilzrt@gmail.com        62.40  2015\n",
              "4   mmsgsrtxah@gmail.com        43.08  2015"
            ],
            "text/html": [
              "\n",
              "  <div id=\"df-85522193-abe4-4e22-9796-ec738de915e0\">\n",
              "    <div class=\"colab-df-container\">\n",
              "      <div>\n",
              "<style scoped>\n",
              "    .dataframe tbody tr th:only-of-type {\n",
              "        vertical-align: middle;\n",
              "    }\n",
              "\n",
              "    .dataframe tbody tr th {\n",
              "        vertical-align: top;\n",
              "    }\n",
              "\n",
              "    .dataframe thead th {\n",
              "        text-align: right;\n",
              "    }\n",
              "</style>\n",
              "<table border=\"1\" class=\"dataframe\">\n",
              "  <thead>\n",
              "    <tr style=\"text-align: right;\">\n",
              "      <th></th>\n",
              "      <th>customer_email</th>\n",
              "      <th>net_revenue</th>\n",
              "      <th>year</th>\n",
              "    </tr>\n",
              "  </thead>\n",
              "  <tbody>\n",
              "    <tr>\n",
              "      <th>0</th>\n",
              "      <td>nhknapwsbx@gmail.com</td>\n",
              "      <td>249.92</td>\n",
              "      <td>2015</td>\n",
              "    </tr>\n",
              "    <tr>\n",
              "      <th>1</th>\n",
              "      <td>joiuzbvcpn@gmail.com</td>\n",
              "      <td>87.61</td>\n",
              "      <td>2015</td>\n",
              "    </tr>\n",
              "    <tr>\n",
              "      <th>2</th>\n",
              "      <td>ukkjctepxt@gmail.com</td>\n",
              "      <td>168.38</td>\n",
              "      <td>2015</td>\n",
              "    </tr>\n",
              "    <tr>\n",
              "      <th>3</th>\n",
              "      <td>gykatilzrt@gmail.com</td>\n",
              "      <td>62.40</td>\n",
              "      <td>2015</td>\n",
              "    </tr>\n",
              "    <tr>\n",
              "      <th>4</th>\n",
              "      <td>mmsgsrtxah@gmail.com</td>\n",
              "      <td>43.08</td>\n",
              "      <td>2015</td>\n",
              "    </tr>\n",
              "  </tbody>\n",
              "</table>\n",
              "</div>\n",
              "      <button class=\"colab-df-convert\" onclick=\"convertToInteractive('df-85522193-abe4-4e22-9796-ec738de915e0')\"\n",
              "              title=\"Convert this dataframe to an interactive table.\"\n",
              "              style=\"display:none;\">\n",
              "        \n",
              "  <svg xmlns=\"http://www.w3.org/2000/svg\" height=\"24px\"viewBox=\"0 0 24 24\"\n",
              "       width=\"24px\">\n",
              "    <path d=\"M0 0h24v24H0V0z\" fill=\"none\"/>\n",
              "    <path d=\"M18.56 5.44l.94 2.06.94-2.06 2.06-.94-2.06-.94-.94-2.06-.94 2.06-2.06.94zm-11 1L8.5 8.5l.94-2.06 2.06-.94-2.06-.94L8.5 2.5l-.94 2.06-2.06.94zm10 10l.94 2.06.94-2.06 2.06-.94-2.06-.94-.94-2.06-.94 2.06-2.06.94z\"/><path d=\"M17.41 7.96l-1.37-1.37c-.4-.4-.92-.59-1.43-.59-.52 0-1.04.2-1.43.59L10.3 9.45l-7.72 7.72c-.78.78-.78 2.05 0 2.83L4 21.41c.39.39.9.59 1.41.59.51 0 1.02-.2 1.41-.59l7.78-7.78 2.81-2.81c.8-.78.8-2.07 0-2.86zM5.41 20L4 18.59l7.72-7.72 1.47 1.35L5.41 20z\"/>\n",
              "  </svg>\n",
              "      </button>\n",
              "      \n",
              "  <style>\n",
              "    .colab-df-container {\n",
              "      display:flex;\n",
              "      flex-wrap:wrap;\n",
              "      gap: 12px;\n",
              "    }\n",
              "\n",
              "    .colab-df-convert {\n",
              "      background-color: #E8F0FE;\n",
              "      border: none;\n",
              "      border-radius: 50%;\n",
              "      cursor: pointer;\n",
              "      display: none;\n",
              "      fill: #1967D2;\n",
              "      height: 32px;\n",
              "      padding: 0 0 0 0;\n",
              "      width: 32px;\n",
              "    }\n",
              "\n",
              "    .colab-df-convert:hover {\n",
              "      background-color: #E2EBFA;\n",
              "      box-shadow: 0px 1px 2px rgba(60, 64, 67, 0.3), 0px 1px 3px 1px rgba(60, 64, 67, 0.15);\n",
              "      fill: #174EA6;\n",
              "    }\n",
              "\n",
              "    [theme=dark] .colab-df-convert {\n",
              "      background-color: #3B4455;\n",
              "      fill: #D2E3FC;\n",
              "    }\n",
              "\n",
              "    [theme=dark] .colab-df-convert:hover {\n",
              "      background-color: #434B5C;\n",
              "      box-shadow: 0px 1px 3px 1px rgba(0, 0, 0, 0.15);\n",
              "      filter: drop-shadow(0px 1px 2px rgba(0, 0, 0, 0.3));\n",
              "      fill: #FFFFFF;\n",
              "    }\n",
              "  </style>\n",
              "\n",
              "      <script>\n",
              "        const buttonEl =\n",
              "          document.querySelector('#df-85522193-abe4-4e22-9796-ec738de915e0 button.colab-df-convert');\n",
              "        buttonEl.style.display =\n",
              "          google.colab.kernel.accessAllowed ? 'block' : 'none';\n",
              "\n",
              "        async function convertToInteractive(key) {\n",
              "          const element = document.querySelector('#df-85522193-abe4-4e22-9796-ec738de915e0');\n",
              "          const dataTable =\n",
              "            await google.colab.kernel.invokeFunction('convertToInteractive',\n",
              "                                                     [key], {});\n",
              "          if (!dataTable) return;\n",
              "\n",
              "          const docLinkHtml = 'Like what you see? Visit the ' +\n",
              "            '<a target=\"_blank\" href=https://colab.research.google.com/notebooks/data_table.ipynb>data table notebook</a>'\n",
              "            + ' to learn more about interactive tables.';\n",
              "          element.innerHTML = '';\n",
              "          dataTable['output_type'] = 'display_data';\n",
              "          await google.colab.output.renderOutput(dataTable, element);\n",
              "          const docLink = document.createElement('div');\n",
              "          docLink.innerHTML = docLinkHtml;\n",
              "          element.appendChild(docLink);\n",
              "        }\n",
              "      </script>\n",
              "    </div>\n",
              "  </div>\n",
              "  "
            ]
          },
          "metadata": {},
          "execution_count": 6
        }
      ]
    },
    {
      "cell_type": "code",
      "source": [
        "df.shape"
      ],
      "metadata": {
        "colab": {
          "base_uri": "https://localhost:8080/"
        },
        "id": "G6dTtin-DI_W",
        "outputId": "9dc783d1-c3ac-4b0c-c6f2-f14ab21ed4f4"
      },
      "execution_count": 7,
      "outputs": [
        {
          "output_type": "execute_result",
          "data": {
            "text/plain": [
              "(685927, 3)"
            ]
          },
          "metadata": {},
          "execution_count": 7
        }
      ]
    },
    {
      "cell_type": "code",
      "source": [
        "unique_years = df['year'].unique()\n",
        "\n",
        "print(unique_years)"
      ],
      "metadata": {
        "colab": {
          "base_uri": "https://localhost:8080/"
        },
        "id": "2FHQTzArEV4h",
        "outputId": "74214b55-da92-442b-a00a-bfdbb8c1e5b1"
      },
      "execution_count": 8,
      "outputs": [
        {
          "output_type": "stream",
          "name": "stdout",
          "text": [
            "[2015 2016 2017]\n"
          ]
        }
      ]
    },
    {
      "cell_type": "code",
      "source": [
        "# Get the last year with data, since we don't have data for this year\n",
        "#current_year = datetime.datetime.now().year\n",
        "current_year = 2017\n",
        "\n",
        "# Calculate the total revenue for the current year\n",
        "total_revenue = df[df['year'] == current_year]['net_revenue'].sum()\n",
        "\n",
        "# Print the total revenue for the current year\n",
        "print(f'Total revenue for {current_year}: {total_revenue:.2f}')"
      ],
      "metadata": {
        "colab": {
          "base_uri": "https://localhost:8080/"
        },
        "id": "prwiUFtlDL5y",
        "outputId": "dd5efbc7-eabe-4a00-b966-4ee022e2e2cc"
      },
      "execution_count": 9,
      "outputs": [
        {
          "output_type": "stream",
          "name": "stdout",
          "text": [
            "Total revenue for 2017: 31417495.03\n"
          ]
        }
      ]
    },
    {
      "cell_type": "code",
      "source": [
        "grouped = df.groupby('year')['net_revenue'].sum()"
      ],
      "metadata": {
        "id": "f3l2ifFyFehn"
      },
      "execution_count": 10,
      "outputs": []
    },
    {
      "cell_type": "code",
      "source": [
        "grouped"
      ],
      "metadata": {
        "colab": {
          "base_uri": "https://localhost:8080/"
        },
        "id": "2c6AlhLDGvEu",
        "outputId": "993f367a-8318-42ef-ae02-07fdccabd38e"
      },
      "execution_count": 11,
      "outputs": [
        {
          "output_type": "execute_result",
          "data": {
            "text/plain": [
              "year\n",
              "2015    29036749.19\n",
              "2016    25730943.59\n",
              "2017    31417495.03\n",
              "Name: net_revenue, dtype: float64"
            ]
          },
          "metadata": {},
          "execution_count": 11
        }
      ]
    },
    {
      "cell_type": "markdown",
      "source": [
        "1.) **Total revenue for the current year**"
      ],
      "metadata": {
        "id": "WjBI6xoTPnWQ"
      }
    },
    {
      "cell_type": "code",
      "source": [
        "years = grouped.index\n",
        "total_revenues = grouped.values\n",
        "\n",
        "# Use the 'seaborn-darkgrid' style\n",
        "plt.style.use('seaborn-darkgrid')\n",
        "\n",
        "# Create a bar plot with the total revenue for each year\n",
        "plt.bar(years, total_revenues)\n",
        "\n",
        "# Add grid lines\n",
        "plt.grid(True)\n",
        "\n",
        "# Add labels and a title\n",
        "plt.xlabel('Year')\n",
        "plt.ylabel('Total Net Revenue')\n",
        "plt.title('Total Net Revenue by Year')\n",
        "\n",
        "# Show the plot\n",
        "plt.show()"
      ],
      "metadata": {
        "colab": {
          "base_uri": "https://localhost:8080/",
          "height": 291
        },
        "id": "rIAoyJscG0yp",
        "outputId": "6119ab02-2670-488c-b0a6-a21fda49588c"
      },
      "execution_count": 13,
      "outputs": [
        {
          "output_type": "display_data",
          "data": {
            "text/plain": [
              "<Figure size 432x288 with 1 Axes>"
            ],
            "image/png": "[encoded data removed]"
          },
          "metadata": {}
        }
      ]
    },
    {
      "cell_type": "markdown",
      "source": [
        "2.) **New Customer Revenue**"
      ],
      "metadata": {
        "id": "MG3LcibIPqhV"
      }
    },
    {
      "cell_type": "code",
      "source": [
        "# Split the data into two dataframes based on the year\n",
        "df_2015 = df[df['year'] == 2015]\n",
        "df_2016 = df[df['year'] == 2016]\n",
        "df_2017 = df[df['year'] == 2017]\n",
        "\n",
        "# Create a Pandas dataframe with the customers that exist in 2016 but not in 2015\n",
        "df_2016_new_customers = df_2016[~df_2016['customer_email'].isin(df_2015['customer_email'])]\n",
        "df_2017_new_customers = df_2017[~df_2017['customer_email'].isin(df_2016['customer_email'])]\n"
      ],
      "metadata": {
        "id": "ttXoLg4dKM7K"
      },
      "execution_count": 75,
      "outputs": []
    },
    {
      "cell_type": "code",
      "source": [
        "revenue_sum_new_customers_2016 = df_2016_new_customers['net_revenue'].sum()\n",
        "revenue_sum_new_customers_2017 = df_2017_new_customers['net_revenue'].sum()"
      ],
      "metadata": {
        "id": "VdQfbKTiKea4"
      },
      "execution_count": 23,
      "outputs": []
    },
    {
      "cell_type": "code",
      "source": [
        "format_revenue_2016 = \"${:0,.2f}\".format(revenue_sum_new_customers_2016)\n",
        "format_revenue_2017 = \"${:0,.2f}\".format(revenue_sum_new_customers_2017)\n",
        "print(f'New customer revenue for 2016: {format_revenue_2016}')\n",
        "print(f'New customer revenue for 2017: {format_revenue_2017}')"
      ],
      "metadata": {
        "colab": {
          "base_uri": "https://localhost:8080/"
        },
        "id": "j39uf7q4Rw0t",
        "outputId": "ae2d070f-513d-42ac-c4b4-5e41ef039734"
      },
      "execution_count": 28,
      "outputs": [
        {
          "output_type": "stream",
          "name": "stdout",
          "text": [
            "New customer revenue for 2016: $18,245,491.01\n",
            "New customer revenue for 2016: $28,776,235.04\n"
          ]
        }
      ]
    },
    {
      "cell_type": "code",
      "source": [
        "# Create a Pandas dataframe with the revenue for each year\n",
        "df_revenue = pd.DataFrame({\n",
        "    'Year': [2016, 2017],\n",
        "    'New Customer Revenue': [format_revenue_2016, format_revenue_2017]\n",
        "})\n",
        "\n",
        "# Set the style and context of the plot\n",
        "sns.set(style='darkgrid', context='talk')\n",
        "\n",
        "# Plot the data\n",
        "plt.plot(df_revenue['Year'], df_revenue['New Customer Revenue'], marker='o')\n",
        "\n",
        "# Add labels and title to the plot\n",
        "plt.xlabel('Year')\n",
        "plt.title('New Customer Revenue by Year')\n",
        "plt.xticks(df_revenue['Year'])\n",
        "\n",
        "# Show the plot\n",
        "plt.show()"
      ],
      "metadata": {
        "colab": {
          "base_uri": "https://localhost:8080/",
          "height": 321
        },
        "id": "f8pm4jQYSHc4",
        "outputId": "27d0a90f-fce7-44e3-949e-98b880aff296"
      },
      "execution_count": 35,
      "outputs": [
        {
          "output_type": "display_data",
          "data": {
            "text/plain": [
              "<Figure size 432x288 with 1 Axes>"
            ],
            "image/png": "[encoded data removed]"
          },
          "metadata": {}
        }
      ]
    },
    {
      "cell_type": "markdown",
      "source": [
        "3.) **Existing Customer Growth**"
      ],
      "metadata": {
        "id": "OHfG6_YOXMoI"
      }
    },
    {
      "cell_type": "code",
      "source": [
        "# Create a Pandas dataframe with the customers that exist in both 2015 and 2016\n",
        "df_2015_and_2016 = df_2016[df_2016['customer_email'].isin(df_2015['customer_email'])]\n",
        "# Create a Pandas dataframe with the customers that exist in both 2016 and 2017\n",
        "df_2016_and_2017 = df_2017[df_2017['customer_email'].isin(df_2016['customer_email'])]\n",
        "\n",
        "# Calculate the revenue for the existing customers in 2015-2016\n",
        "existing_revenue_2016 = df_2015_and_2016['net_revenue'].sum()\n",
        "\n",
        "# Calculate the revenue for the existing customers in 2016-2017\n",
        "existing_revenue_2017 = df_2016_and_2017['net_revenue'].sum()"
      ],
      "metadata": {
        "id": "mys5bQuLSJhz"
      },
      "execution_count": 46,
      "outputs": []
    },
    {
      "cell_type": "code",
      "source": [
        "# Calculate the existing customer growth\n",
        "existing_customer_growth = existing_revenue_2017 - existing_revenue_2016\n",
        "format_existing_customer_growth= \"{:0,.2f}$\".format(existing_customer_growth)\n",
        "# Print the existing customer growth\n",
        "print(f'Existing Customer Growth: {format_existing_customer_growth}')"
      ],
      "metadata": {
        "colab": {
          "base_uri": "https://localhost:8080/"
        },
        "id": "wSisoSJeaEKI",
        "outputId": "c7076fcb-504c-407c-dec0-2d544144effb"
      },
      "execution_count": 51,
      "outputs": [
        {
          "output_type": "stream",
          "name": "stdout",
          "text": [
            "Existing Customer Growth: -4,844,192.59$\n"
          ]
        }
      ]
    },
    {
      "cell_type": "markdown",
      "source": [
        "5.) **Existing Customer Revenue Current Year**"
      ],
      "metadata": {
        "id": "fFXSIp0SdSj2"
      }
    },
    {
      "cell_type": "code",
      "source": [
        "format_existing_revenue_2017= \"{:0,.2f}$\".format(existing_revenue_2017)\n",
        "print(f'Existing Customer Revenue Current Year: {format_existing_revenue_2017}')"
      ],
      "metadata": {
        "colab": {
          "base_uri": "https://localhost:8080/"
        },
        "id": "Fce9TPGrYMp4",
        "outputId": "de3c259d-ff6b-4f17-b268-f7c52b8ff302"
      },
      "execution_count": 59,
      "outputs": [
        {
          "output_type": "stream",
          "name": "stdout",
          "text": [
            "Existing Customer Revenue Current Year: 2,641,259.99$\n"
          ]
        }
      ]
    },
    {
      "cell_type": "markdown",
      "source": [
        "6.) **Existing Customer Revenue Prior Year**\n"
      ],
      "metadata": {
        "id": "TL15jVXUdO3A"
      }
    },
    {
      "cell_type": "code",
      "source": [
        "format_existing_revenue_2016= \"{:0,.2f}$\".format(existing_revenue_2016)\n",
        "print(f'Existing Customer Revenue Prior Year: {format_existing_revenue_2016}')"
      ],
      "metadata": {
        "colab": {
          "base_uri": "https://localhost:8080/"
        },
        "id": "cb0mjPqYUZLx",
        "outputId": "cf60517c-0373-4617-a21d-e711a32186ce"
      },
      "execution_count": 57,
      "outputs": [
        {
          "output_type": "stream",
          "name": "stdout",
          "text": [
            "Existing Customer Revenue Prior Year: 7,485,452.58$\n"
          ]
        }
      ]
    },
    {
      "cell_type": "markdown",
      "source": [
        "4.) **Revenue lost from attrition**"
      ],
      "metadata": {
        "id": "d7diGv9ydF0F"
      }
    },
    {
      "cell_type": "code",
      "source": [
        "# Create a Pandas dataframe with the customers that exist in both 2016 and 2017\n",
        "df_2016_and_2017 = df_2016[df_2016['customer_email'].isin(df_2017['customer_email'])]\n",
        "\n",
        "# Calculate the revenue for the existing customers in 2016\n",
        "revenue_2016 = df_2016_and_2017['net_revenue'].sum()\n",
        "\n",
        "# Calculate the revenue for the existing customers in 2017\n",
        "revenue_2017 = df_2017[df_2017['customer_email'].isin(df_2016_and_2017['customer_email'])]['net_revenue'].sum()\n",
        "\n",
        "# Calculate the revenue lost from attrition\n",
        "attrition_revenue = revenue_2016 - revenue_2017\n",
        "format_attrition_revenue= \"{:0,.2f}$\".format(attrition_revenue)\n",
        "# Print the revenue lost from attrition\n",
        "print(f'Revenue lost from attrition: {format_attrition_revenue}')"
      ],
      "metadata": {
        "colab": {
          "base_uri": "https://localhost:8080/"
        },
        "id": "_Ycpho5pbfRh",
        "outputId": "3549a8c2-6dbd-4a96-d976-d6b0339d2963"
      },
      "execution_count": 56,
      "outputs": [
        {
          "output_type": "stream",
          "name": "stdout",
          "text": [
            "Revenue lost from attrition: -20,611.34$\n"
          ]
        }
      ]
    },
    {
      "cell_type": "markdown",
      "source": [
        "7,8.) **Total Customers Current and Previous Year**"
      ],
      "metadata": {
        "id": "z2DxkL9Tgyp4"
      }
    },
    {
      "cell_type": "code",
      "source": [
        "customers_per_year = df['year'].value_counts().sort_index()\n",
        "print(customers_per_year)"
      ],
      "metadata": {
        "colab": {
          "base_uri": "https://localhost:8080/"
        },
        "id": "o5TKSxHRcvYH",
        "outputId": "ed86051b-c59d-4d18-887f-9c00790bcdce"
      },
      "execution_count": 63,
      "outputs": [
        {
          "output_type": "stream",
          "name": "stdout",
          "text": [
            "2015    231294\n",
            "2016    204646\n",
            "2017    249987\n",
            "Name: year, dtype: int64\n"
          ]
        }
      ]
    },
    {
      "cell_type": "code",
      "source": [
        "# Set the style and context of the plot\n",
        "sns.set(style='darkgrid', context='talk')\n",
        "\n",
        "# Plot the data\n",
        "plt.plot(customers_per_year.index, customers_per_year.values, marker='o', linestyle='-')\n",
        "\n",
        "# Add labels and title to the plot\n",
        "plt.xlabel('Year')\n",
        "plt.title('Number of Customers by Year')\n",
        "\n",
        "# Set the x-ticks to be the values in the index of the customers_per_year series\n",
        "plt.xticks(customers_per_year.index)\n",
        "\n",
        "# Show the plot\n",
        "plt.show()"
      ],
      "metadata": {
        "colab": {
          "base_uri": "https://localhost:8080/",
          "height": 321
        },
        "id": "A9gh60L-fIeP",
        "outputId": "762f5881-8e2c-4e31-d890-4de0938cae81"
      },
      "execution_count": 65,
      "outputs": [
        {
          "output_type": "display_data",
          "data": {
            "text/plain": [
              "<Figure size 432x288 with 1 Axes>"
            ],
            "image/png": "[encoded data removed]"
          },
          "metadata": {}
        }
      ]
    },
    {
      "cell_type": "markdown",
      "source": [
        "9.) **New Customers per year**"
      ],
      "metadata": {
        "id": "S_Ijwtnfj67K"
      }
    },
    {
      "cell_type": "code",
      "source": [
        "new_customers_2016 = df_2016_new_customers['customer_email'].nunique()\n",
        "new_customers_2017 = df_2017_new_customers['customer_email'].nunique()\n"
      ],
      "metadata": {
        "id": "iZPSipSriILf"
      },
      "execution_count": 78,
      "outputs": []
    },
    {
      "cell_type": "code",
      "source": [
        "print(new_customers_2016)\n",
        "print(new_customers_2017)"
      ],
      "metadata": {
        "colab": {
          "base_uri": "https://localhost:8080/"
        },
        "id": "6D_YFyv1iT-O",
        "outputId": "1f7cfef8-dd15-4375-f284-6901d7f5e95d"
      },
      "execution_count": 79,
      "outputs": [
        {
          "output_type": "stream",
          "name": "stdout",
          "text": [
            "145062\n",
            "229028\n"
          ]
        }
      ]
    },
    {
      "cell_type": "code",
      "source": [
        "new_customers_per_year = pd.DataFrame({\n",
        "    'Year': [2016,2017],\n",
        "    'Number of New Customers': [new_customers_2016,new_customers_2017]\n",
        "})\n",
        "\n",
        "# Set the style and context of the plot\n",
        "sns.set(style='darkgrid', context='talk')\n",
        "\n",
        "# Plot the data\n",
        "plt.plot(new_customers_per_year['Year'], new_customers_per_year['Number of New Customers'], marker='o', linestyle='-')\n",
        "\n",
        "# Add labels and title to the plot\n",
        "plt.xlabel('Year')\n",
        "plt.title('Number of New Customers by Year')\n",
        "\n",
        "# Set the x-ticks to be the values in the index of the new_customers_per_year series\n",
        "plt.xticks(customers_per_year.index)\n",
        "\n",
        "# Show the plot\n",
        "plt.show()\n"
      ],
      "metadata": {
        "colab": {
          "base_uri": "https://localhost:8080/",
          "height": 321
        },
        "id": "VdmUtmE4iVsK",
        "outputId": "db52fe00-f8f3-4182-8e75-6d64e9dda859"
      },
      "execution_count": 83,
      "outputs": [
        {
          "output_type": "display_data",
          "data": {
            "text/plain": [
              "<Figure size 432x288 with 1 Axes>"
            ],
            "image/png": "[encoded data removed]"
          },
          "metadata": {}
        }
      ]
    },
    {
      "cell_type": "markdown",
      "source": [
        "10.) **Lost Customers per Year**"
      ],
      "metadata": {
        "id": "Fhf3gMKpli_g"
      }
    },
    {
      "cell_type": "code",
      "source": [
        "lost_customers_2016 = df_2015[~df_2015['customer_email'].isin(df_2016['customer_email'])]['customer_email'].nunique()\n",
        "print(lost_customers_2016)\n",
        "\n",
        "lost_customers_2017 = df_2016[~df_2016['customer_email'].isin(df_2017['customer_email'])]['customer_email'].nunique()\n",
        "print(lost_customers_2017)"
      ],
      "metadata": {
        "colab": {
          "base_uri": "https://localhost:8080/"
        },
        "id": "LKFym6CgkAnl",
        "outputId": "98828599-2e61-4b79-aedc-c2d2e6fae123"
      },
      "execution_count": 86,
      "outputs": [
        {
          "output_type": "stream",
          "name": "stdout",
          "text": [
            "171710\n",
            "183687\n"
          ]
        }
      ]
    },
    {
      "cell_type": "code",
      "source": [
        "lost_customers_per_year = pd.DataFrame({\n",
        "    'Year': [2016,2017],\n",
        "    'Number of Lost Customers': [lost_customers_2016,lost_customers_2017]\n",
        "})\n",
        "\n",
        "# Set the style and context of the plot\n",
        "sns.set(style='darkgrid', context='talk')\n",
        "\n",
        "# Plot the data\n",
        "plt.plot(lost_customers_per_year['Year'], lost_customers_per_year['Number of Lost Customers'], marker='o', linestyle='-')\n",
        "\n",
        "# Add labels and title to the plot\n",
        "plt.xlabel('Year')\n",
        "plt.title('Number of Lost Customers by Year')\n",
        "\n",
        "# Set the x-ticks to be the values in the index of the new_customers_per_year series\n",
        "plt.xticks(customers_per_year.index)\n",
        "\n",
        "# Show the plot\n",
        "plt.show()\n"
      ],
      "metadata": {
        "colab": {
          "base_uri": "https://localhost:8080/",
          "height": 321
        },
        "id": "V4vXy-yFltGG",
        "outputId": "0a8c222f-b6f0-4107-fa0b-ee283a19c991"
      },
      "execution_count": 88,
      "outputs": [
        {
          "output_type": "display_data",
          "data": {
            "text/plain": [
              "<Figure size 432x288 with 1 Axes>"
            ],
            "image/png": "[encoded data removed]"
          },
          "metadata": {}
        }
      ]
    }
  ]
}