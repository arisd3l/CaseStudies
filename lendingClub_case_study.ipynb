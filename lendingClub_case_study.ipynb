{
  "nbformat": 4,
  "nbformat_minor": 0,
  "metadata": {
    "colab": {
      "provenance": [],
      "authorship_tag": "ABX9TyMh4j6VQLfOaWovLO8GpKG5",
      "include_colab_link": true
    },
    "kernelspec": {
      "name": "python3",
      "display_name": "Python 3"
    },
    "language_info": {
      "name": "python"
    }
  },
  "cells": [
    {
      "cell_type": "markdown",
      "metadata": {
        "id": "view-in-github",
        "colab_type": "text"
      },
      "source": [
        "<a href=\"https://colab.research.google.com/github/arisd3l/CaseStudies/blob/main/lendingClub_case_study.ipynb\" target=\"_parent\"><img src=\"https://colab.research.google.com/assets/colab-badge.svg\" alt=\"Open In Colab\"/></a>"
      ]
    },
    {
      "cell_type": "markdown",
      "source": [
        "The Lending Club dataset contains information on loans issued by the company. The data includes the loan amount, borrower rate, borrower income, and whether the loan was paid off or defaulted on.\n",
        "\n",
        "There are **several issues** that could potentially be present in the Lending Club dataset:\n",
        "\n",
        "*Missing values*: It is important to check for missing values in the dataset, as they can impact the accuracy of the analysis.\n",
        "\n",
        "*Data quality*: It is possible that the data in the dataset may be inaccurate or unreliable. For example, the borrower income may be incorrect or the loan status may be misclassified.\n",
        "\n",
        "*Bias*: The dataset may be biased in some way, which could impact the conclusions drawn from the analysis. For example, the dataset may disproportionately represent certain groups of borrowers (e.g. those with high incomes or low credit scores).\n",
        "\n",
        "*Outliers*: There may be outliers present in the dataset that could skew the results of the analysis. It is important to identify and handle these outliers appropriately.\n",
        "\n",
        "*Changes over time*: The dataset covers a period of several years, during which economic and market conditions may have changed. This could affect the trends and patterns observed in the data.\n",
        "\n",
        "Overall, it is important to carefully consider these issues when performing an analysis on the Lending Club dataset to ensure the accuracy and validity of the results."
      ],
      "metadata": {
        "id": "n1i25nc-CDHg"
      }
    },
    {
      "cell_type": "code",
      "execution_count": 51,
      "metadata": {
        "id": "0dW4QXCQn7sL"
      },
      "outputs": [],
      "source": [
        "# import necessary libraries\n",
        "import pandas as pd\n",
        "import matplotlib.pyplot as plt\n",
        "import seaborn as sns"
      ]
    },
    {
      "cell_type": "code",
      "source": [
        "from google.colab import drive \n",
        "drive.mount('/content/gdrive')"
      ],
      "metadata": {
        "colab": {
          "base_uri": "https://localhost:8080/"
        },
        "id": "zKAzx5XtrSGz",
        "outputId": "e04d61da-adbb-4c72-daf4-c509d0560dd9"
      },
      "execution_count": 52,
      "outputs": [
        {
          "output_type": "stream",
          "name": "stdout",
          "text": [
            "Drive already mounted at /content/gdrive; to attempt to forcibly remount, call drive.mount(\"/content/gdrive\", force_remount=True).\n"
          ]
        }
      ]
    },
    {
      "cell_type": "code",
      "source": [
        "# read in the Lending Club dataset\n",
        "df = pd.read_csv('gdrive/My Drive/loans_full_schema.csv')"
      ],
      "metadata": {
        "id": "2FqnZXBwrihU"
      },
      "execution_count": 53,
      "outputs": []
    },
    {
      "cell_type": "code",
      "source": [
        "# print the shape of the dataset\n",
        "print(df.shape)\n",
        "\n",
        "# print the first few rows of the dataset\n",
        "print(df.head())\n",
        "\n",
        "# check the data types of each column\n",
        "print(df.dtypes)\n",
        "\n",
        "# check for missing values\n",
        "print(df.isnull().sum())\n",
        "\n",
        "# calculate the percentage of loans that were paid off\n",
        "paid_off = df[df['loan_status'] == 'Paid Off'].shape[0]\n",
        "total = df.shape[0]\n",
        "print('Percentage of loans paid off:', paid_off / total)\n",
        "\n",
        "# plot the distribution of loan amounts\n",
        "plt.hist(df['loan_amount'])\n",
        "plt.xlabel('Loan Amount (USD)')\n",
        "plt.ylabel('Number of Loans')\n",
        "plt.show()\n",
        "\n",
        "# plot the distribution of borrower rates\n",
        "plt.hist(df['interest_rate'])\n",
        "plt.xlabel('Borrower Rate')\n",
        "plt.ylabel('Number of Loans')\n",
        "plt.show()\n",
        "\n",
        "# plot the relationship between borrower income and borrower rate\n",
        "plt.scatter(df['annual_income'], df['interest_rate'])\n",
        "plt.xlabel('Borrower Income (USD)')\n",
        "plt.ylabel('Borrower Rate')\n",
        "plt.show()\n"
      ],
      "metadata": {
        "colab": {
          "base_uri": "https://localhost:8080/",
          "height": 1000
        },
        "id": "UJ91j2JgsIvw",
        "outputId": "246b0d83-7ff0-44b2-bc56-242919df6792"
      },
      "execution_count": 54,
      "outputs": [
        {
          "output_type": "stream",
          "name": "stdout",
          "text": [
            "(10000, 55)\n",
            "                 emp_title  emp_length state homeownership  annual_income  \\\n",
            "0  global config engineer          3.0    NJ      MORTGAGE        90000.0   \n",
            "1   warehouse office clerk        10.0    HI          RENT        40000.0   \n",
            "2                 assembly         3.0    WI          RENT        40000.0   \n",
            "3         customer service         1.0    PA          RENT        30000.0   \n",
            "4     security supervisor         10.0    CA          RENT        35000.0   \n",
            "\n",
            "   verified_income  debt_to_income  annual_income_joint  \\\n",
            "0         Verified           18.01                  NaN   \n",
            "1     Not Verified            5.04                  NaN   \n",
            "2  Source Verified           21.15                  NaN   \n",
            "3     Not Verified           10.16                  NaN   \n",
            "4         Verified           57.96              57000.0   \n",
            "\n",
            "  verification_income_joint  debt_to_income_joint  ...  sub_grade  \\\n",
            "0                       NaN                   NaN  ...         C3   \n",
            "1                       NaN                   NaN  ...         C1   \n",
            "2                       NaN                   NaN  ...         D1   \n",
            "3                       NaN                   NaN  ...         A3   \n",
            "4                  Verified                 37.66  ...         C3   \n",
            "\n",
            "   issue_month  loan_status  initial_listing_status  disbursement_method  \\\n",
            "0     Mar-2018      Current                   whole                 Cash   \n",
            "1     Feb-2018      Current                   whole                 Cash   \n",
            "2     Feb-2018      Current              fractional                 Cash   \n",
            "3     Jan-2018      Current                   whole                 Cash   \n",
            "4     Mar-2018      Current                   whole                 Cash   \n",
            "\n",
            "    balance  paid_total  paid_principal  paid_interest  paid_late_fees  \n",
            "0  27015.86     1999.33          984.14        1015.19             0.0  \n",
            "1   4651.37      499.12          348.63         150.49             0.0  \n",
            "2   1824.63      281.80          175.37         106.43             0.0  \n",
            "3  18853.26     3312.89         2746.74         566.15             0.0  \n",
            "4  21430.15     2324.65         1569.85         754.80             0.0  \n",
            "\n",
            "[5 rows x 55 columns]\n",
            "emp_title                            object\n",
            "emp_length                          float64\n",
            "state                                object\n",
            "homeownership                        object\n",
            "annual_income                       float64\n",
            "verified_income                      object\n",
            "debt_to_income                      float64\n",
            "annual_income_joint                 float64\n",
            "verification_income_joint            object\n",
            "debt_to_income_joint                float64\n",
            "delinq_2y                             int64\n",
            "months_since_last_delinq            float64\n",
            "earliest_credit_line                  int64\n",
            "inquiries_last_12m                    int64\n",
            "total_credit_lines                    int64\n",
            "open_credit_lines                     int64\n",
            "total_credit_limit                    int64\n",
            "total_credit_utilized                 int64\n",
            "num_collections_last_12m              int64\n",
            "num_historical_failed_to_pay          int64\n",
            "months_since_90d_late               float64\n",
            "current_accounts_delinq               int64\n",
            "total_collection_amount_ever          int64\n",
            "current_installment_accounts          int64\n",
            "accounts_opened_24m                   int64\n",
            "months_since_last_credit_inquiry    float64\n",
            "num_satisfactory_accounts             int64\n",
            "num_accounts_120d_past_due          float64\n",
            "num_accounts_30d_past_due             int64\n",
            "num_active_debit_accounts             int64\n",
            "total_debit_limit                     int64\n",
            "num_total_cc_accounts                 int64\n",
            "num_open_cc_accounts                  int64\n",
            "num_cc_carrying_balance               int64\n",
            "num_mort_accounts                     int64\n",
            "account_never_delinq_percent        float64\n",
            "tax_liens                             int64\n",
            "public_record_bankrupt                int64\n",
            "loan_purpose                         object\n",
            "application_type                     object\n",
            "loan_amount                           int64\n",
            "term                                  int64\n",
            "interest_rate                       float64\n",
            "installment                         float64\n",
            "grade                                object\n",
            "sub_grade                            object\n",
            "issue_month                          object\n",
            "loan_status                          object\n",
            "initial_listing_status               object\n",
            "disbursement_method                  object\n",
            "balance                             float64\n",
            "paid_total                          float64\n",
            "paid_principal                      float64\n",
            "paid_interest                       float64\n",
            "paid_late_fees                      float64\n",
            "dtype: object\n",
            "emp_title                            833\n",
            "emp_length                           817\n",
            "state                                  0\n",
            "homeownership                          0\n",
            "annual_income                          0\n",
            "verified_income                        0\n",
            "debt_to_income                        24\n",
            "annual_income_joint                 8505\n",
            "verification_income_joint           8545\n",
            "debt_to_income_joint                8505\n",
            "delinq_2y                              0\n",
            "months_since_last_delinq            5658\n",
            "earliest_credit_line                   0\n",
            "inquiries_last_12m                     0\n",
            "total_credit_lines                     0\n",
            "open_credit_lines                      0\n",
            "total_credit_limit                     0\n",
            "total_credit_utilized                  0\n",
            "num_collections_last_12m               0\n",
            "num_historical_failed_to_pay           0\n",
            "months_since_90d_late               7715\n",
            "current_accounts_delinq                0\n",
            "total_collection_amount_ever           0\n",
            "current_installment_accounts           0\n",
            "accounts_opened_24m                    0\n",
            "months_since_last_credit_inquiry    1271\n",
            "num_satisfactory_accounts              0\n",
            "num_accounts_120d_past_due           318\n",
            "num_accounts_30d_past_due              0\n",
            "num_active_debit_accounts              0\n",
            "total_debit_limit                      0\n",
            "num_total_cc_accounts                  0\n",
            "num_open_cc_accounts                   0\n",
            "num_cc_carrying_balance                0\n",
            "num_mort_accounts                      0\n",
            "account_never_delinq_percent           0\n",
            "tax_liens                              0\n",
            "public_record_bankrupt                 0\n",
            "loan_purpose                           0\n",
            "application_type                       0\n",
            "loan_amount                            0\n",
            "term                                   0\n",
            "interest_rate                          0\n",
            "installment                            0\n",
            "grade                                  0\n",
            "sub_grade                              0\n",
            "issue_month                            0\n",
            "loan_status                            0\n",
            "initial_listing_status                 0\n",
            "disbursement_method                    0\n",
            "balance                                0\n",
            "paid_total                             0\n",
            "paid_principal                         0\n",
            "paid_interest                          0\n",
            "paid_late_fees                         0\n",
            "dtype: int64\n",
            "Percentage of loans paid off: 0.0\n"
          ]
        },
        {
          "output_type": "display_data",
          "data": {
            "text/plain": [
              "<Figure size 432x288 with 1 Axes>"
            ],
            "image/png": "[encoded data removed]"
          },
          "metadata": {
            "needs_background": "light"
          }
        },
        {
          "output_type": "display_data",
          "data": {
            "text/plain": [
              "<Figure size 432x288 with 1 Axes>"
            ],
            "image/png": "[encoded data removed]"
          },
          "metadata": {
            "needs_background": "light"
          }
        },
        {
          "output_type": "display_data",
          "data": {
            "text/plain": [
              "<Figure size 432x288 with 1 Axes>"
            ],
            "image/png": "[encoded data removed]"
          },
          "metadata": {
            "needs_background": "light"
          }
        }
      ]
    },
    {
      "cell_type": "code",
      "source": [
        "# create a box plot of loan amounts by loan status\n",
        "plt.figure(figsize=(10, 6))\n",
        "sns.boxplot(x='loan_status', y='loan_amount', data=df, palette='Set3')\n",
        "plt.xlabel('Loan Status', fontsize=12)\n",
        "plt.ylabel('Loan Amount (USD)', fontsize=12)\n",
        "plt.title('Distribution of Loan Amounts by Loan Status', fontsize=16)\n",
        "plt.show()\n",
        "\n",
        "# create a scatter plot of borrower rate vs. borrower income\n",
        "plt.figure(figsize=(10, 6))\n",
        "plt.scatter(df['annual_income'], df['interest_rate'], color='darkblue')\n",
        "plt.xlabel('Borrower Income (USD)', fontsize=12)\n",
        "plt.ylabel('Borrower Rate', fontsize=12)\n",
        "plt.title('Relationship between Borrower Income and Borrower Rate', fontsize=16)\n",
        "plt.show()\n",
        "\n",
        "# create a line plot of loan amount by loan grade\n",
        "plt.figure(figsize=(10, 6))\n",
        "loan_amnt_by_grade = df.groupby('grade')['loan_amount'].mean()\n",
        "loan_amnt_by_grade.plot(color='darkgreen')\n",
        "plt.xlabel('Loan Grade', fontsize=12)\n",
        "plt.ylabel('Loan Amount (USD)', fontsize=12)\n",
        "plt.title('Average Loan Amount by Loan Grade', fontsize=16)\n",
        "plt.show()\n",
        "\n",
        "# create a bar plot of loan status by home ownership status\n",
        "plt.figure(figsize=(10, 6))\n",
        "loan_status_by_home_ownership = df.groupby('homeownership')['loan_status'].value_counts().unstack()\n",
        "loan_status_by_home_ownership.plot(kind='bar', stacked=True, color=['darkred', 'darkblue'])\n",
        "plt.xlabel('Home Ownership Status', fontsize=12)\n",
        "plt.ylabel('Number of Loans', fontsize=12)\n",
        "plt.title('Distribution of Loan Status by Home Ownership Status', fontsize=16)\n",
        "plt.legend(['Paid Off', 'Defaulted'])\n",
        "plt.show()"
      ],
      "metadata": {
        "colab": {
          "base_uri": "https://localhost:8080/",
          "height": 1000
        },
        "id": "lFgCtjqer482",
        "outputId": "701927e0-1a1e-4327-e522-06579982510a"
      },
      "execution_count": 55,
      "outputs": [
        {
          "output_type": "display_data",
          "data": {
            "text/plain": [
              "<Figure size 720x432 with 1 Axes>"
            ],
            "image/png": "[encoded data removed]"
          },
          "metadata": {
            "needs_background": "light"
          }
        },
        {
          "output_type": "display_data",
          "data": {
            "text/plain": [
              "<Figure size 720x432 with 1 Axes>"
            ],
            "image/png": "[encoded data removed]"
          },
          "metadata": {
            "needs_background": "light"
          }
        },
        {
          "output_type": "display_data",
          "data": {
            "text/plain": [
              "<Figure size 720x432 with 1 Axes>"
            ],
            "image/png": "[encoded data removed]"
          },
          "metadata": {
            "needs_background": "light"
          }
        },
        {
          "output_type": "display_data",
          "data": {
            "text/plain": [
              "<Figure size 720x432 with 0 Axes>"
            ]
          },
          "metadata": {}
        },
        {
          "output_type": "display_data",
          "data": {
            "text/plain": [
              "<Figure size 432x288 with 1 Axes>"
            ],
            "image/png": "[encoded data removed]"
          },
          "metadata": {
            "needs_background": "light"
          }
        }
      ]
    },
    {
      "cell_type": "code",
      "source": [
        "df.dropna(inplace=True)\n",
        "\n",
        "# Check the shape of the dataset after removing missing values\n",
        "print(df.shape)\n",
        "\n",
        "# Remove outliers from the interest rate column\n",
        "df = df[(df['interest_rate'] > 0) & (df['interest_rate'] < 20)]\n",
        "\n",
        "# Check the shape of the dataset after removing outliers\n",
        "print(df.shape)\n",
        "\n",
        "# Check the distribution of the interest rate column\n",
        "df['interest_rate'].hist()\n",
        "\n",
        "# Normalize the interest rate column using min-max scaling\n",
        "df['interest_rate'] = (df['interest_rate'] - df['interest_rate'].min()) / (df['interest_rate'].max() - df['interest_rate'].min())\n",
        "\n",
        "# Check the distribution of the scaled interest rate column\n",
        "df['interest_rate'].hist()"
      ],
      "metadata": {
        "id": "n4nsBl6Rwqt2",
        "colab": {
          "base_uri": "https://localhost:8080/",
          "height": 319
        },
        "outputId": "00f3e001-814c-4a47-d555-83596d61f67a"
      },
      "execution_count": 11,
      "outputs": [
        {
          "output_type": "stream",
          "name": "stdout",
          "text": [
            "(43, 57)\n",
            "(42, 57)\n"
          ]
        },
        {
          "output_type": "execute_result",
          "data": {
            "text/plain": [
              "<matplotlib.axes._subplots.AxesSubplot at 0x7fbe3920fd60>"
            ]
          },
          "metadata": {},
          "execution_count": 11
        },
        {
          "output_type": "display_data",
          "data": {
            "text/plain": [
              "<Figure size 432x288 with 1 Axes>"
            ],
            "image/png": "[encoded data removed]"
          },
          "metadata": {
            "needs_background": "light"
          }
        }
      ]
    },
    {
      "cell_type": "code",
      "source": [
        "# Remove outliers from the loan amount and interest rate columns\n",
        "df = df[(df['loan_amount'] > 0) & (df['loan_amount'] < 10000)]\n",
        "df = df[(df['interest_rate'] > 0) & (df['interest_rate'] < 20)]\n",
        "\n",
        "# Create a new feature that represents the loan to income ratio\n",
        "df['loan_to_income'] = df['loan_amount'] / df['annual_income']\n",
        "\n",
        "# Create a new feature that represents the loan to debt ratio\n",
        "df['loan_to_debt'] = df['loan_amount'] / df['debt_to_income']\n",
        "\n",
        "#set nan on title to Unemployed\n",
        "df['emp_title'] = df['emp_title'].fillna(\"Unemployed\")\n",
        "\n",
        "# Print the first few rows of the new dataframe\n",
        "print(df.head())"
      ],
      "metadata": {
        "colab": {
          "base_uri": "https://localhost:8080/"
        },
        "id": "H7_uYy70xcxi",
        "outputId": "7e249381-a6f0-4768-ef21-7dbaeb9c8f9a"
      },
      "execution_count": 13,
      "outputs": [
        {
          "output_type": "stream",
          "name": "stdout",
          "text": [
            "                      emp_title  emp_length state homeownership  \\\n",
            "964                  bus driver         8.0    GA      MORTGAGE   \n",
            "1454                 supervisor         3.0    NJ          RENT   \n",
            "2254        department maneger         10.0    MA      MORTGAGE   \n",
            "2553  communications specialist         8.0    OH      MORTGAGE   \n",
            "2881              receptionist          1.0    AL          RENT   \n",
            "\n",
            "      annual_income  verified_income  debt_to_income  annual_income_joint  \\\n",
            "964         15000.0     Not Verified           56.08             105000.0   \n",
            "1454        30000.0  Source Verified           33.72              72000.0   \n",
            "2254        42000.0  Source Verified           24.66              78400.0   \n",
            "2553        68000.0  Source Verified           18.03             147000.0   \n",
            "2881        70000.0  Source Verified           29.64             125000.0   \n",
            "\n",
            "     verification_income_joint  debt_to_income_joint  ...  loan_status  \\\n",
            "964               Not Verified                 17.70  ...      Current   \n",
            "1454           Source Verified                 25.55  ...      Current   \n",
            "2254           Source Verified                 23.01  ...      Current   \n",
            "2553              Not Verified                 16.47  ...      Current   \n",
            "2881           Source Verified                 19.65  ...      Current   \n",
            "\n",
            "      initial_listing_status  disbursement_method  balance  paid_total  \\\n",
            "964                    whole                 Cash  7277.50      840.58   \n",
            "1454                   whole                 Cash  3182.86      606.21   \n",
            "2254                   whole                 Cash  5746.41      395.32   \n",
            "2553                   whole                 Cash  4432.23      863.07   \n",
            "2881              fractional                 Cash  3545.78      687.11   \n",
            "\n",
            "      paid_principal  paid_interest  paid_late_fees  loan_to_income  \\\n",
            "964           497.50         343.08             0.0        0.518333   \n",
            "1454          417.14         189.07             0.0        0.120000   \n",
            "2254          278.59         116.73             0.0        0.143452   \n",
            "2553          567.77         295.30             0.0        0.073529   \n",
            "2881          454.22         232.89             0.0        0.057143   \n",
            "\n",
            "      loan_to_debt  \n",
            "964     138.641227  \n",
            "1454    106.761566  \n",
            "2254    244.322790  \n",
            "2553    277.315585  \n",
            "2881    134.952767  \n",
            "\n",
            "[5 rows x 57 columns]\n"
          ]
        }
      ]
    },
    {
      "cell_type": "code",
      "source": [
        "from sklearn.model_selection import train_test_split\n",
        "from sklearn.preprocessing import LabelEncoder\n",
        "\n",
        "le = LabelEncoder()\n",
        "\n",
        "for i in df.columns:\n",
        "    if df[i].dtypes == 'object':\n",
        "        \n",
        "        df[i] = le.fit_transform(df[i])"
      ],
      "metadata": {
        "id": "p2H21YwIzusz"
      },
      "execution_count": 14,
      "outputs": []
    },
    {
      "cell_type": "code",
      "source": [
        "# Calculate the correlations between the features and the target variable\n",
        "correlations = df.corr().abs()['interest_rate'].sort_values(ascending=False)\n",
        "\n",
        "# Print the most highly correlated features\n",
        "print(correlations)\n",
        "\n",
        "# Select the top 10 most highly correlated features\n",
        "top_features = correlations[:20].index.tolist()\n",
        "\n",
        "# Create a new DataFrame with the top 10 features\n",
        "df_selected = df[top_features]"
      ],
      "metadata": {
        "colab": {
          "base_uri": "https://localhost:8080/"
        },
        "id": "cOkEH3NS3FAu",
        "outputId": "51cb61fa-82c4-490d-a654-92c493d341ed"
      },
      "execution_count": 29,
      "outputs": [
        {
          "output_type": "stream",
          "name": "stdout",
          "text": [
            "interest_rate                       1.000000\n",
            "sub_grade                           0.993161\n",
            "grade                               0.942321\n",
            "paid_interest                       0.388393\n",
            "verified_income                     0.303383\n",
            "debt_to_income_joint                0.283419\n",
            "inquiries_last_12m                  0.262765\n",
            "loan_to_debt                        0.254661\n",
            "verification_income_joint           0.252722\n",
            "public_record_bankrupt              0.244374\n",
            "num_historical_failed_to_pay        0.244374\n",
            "num_collections_last_12m            0.230293\n",
            "emp_length                          0.229650\n",
            "debt_to_income                      0.226809\n",
            "initial_listing_status              0.219640\n",
            "total_collection_amount_ever        0.219466\n",
            "homeownership                       0.205702\n",
            "annual_income                       0.197194\n",
            "total_credit_utilized               0.183481\n",
            "months_since_90d_late               0.164822\n",
            "paid_principal                      0.163510\n",
            "state                               0.155001\n",
            "total_debit_limit                   0.136339\n",
            "paid_total                          0.130739\n",
            "annual_income_joint                 0.118788\n",
            "emp_title                           0.117691\n",
            "num_mort_accounts                   0.115641\n",
            "loan_to_income                      0.113449\n",
            "total_credit_limit                  0.109505\n",
            "num_active_debit_accounts           0.108566\n",
            "delinq_2y                           0.107711\n",
            "account_never_delinq_percent        0.107276\n",
            "months_since_last_delinq            0.105725\n",
            "loan_purpose                        0.094955\n",
            "months_since_last_credit_inquiry    0.093221\n",
            "accounts_opened_24m                 0.091137\n",
            "loan_amount                         0.076932\n",
            "earliest_credit_line                0.075827\n",
            "current_installment_accounts        0.073883\n",
            "loan_status                         0.062339\n",
            "issue_month                         0.038961\n",
            "num_cc_carrying_balance             0.034905\n",
            "balance                             0.031215\n",
            "installment                         0.031183\n",
            "total_credit_lines                  0.030206\n",
            "num_total_cc_accounts               0.029585\n",
            "num_satisfactory_accounts           0.024391\n",
            "open_credit_lines                   0.024391\n",
            "num_open_cc_accounts                0.007094\n",
            "current_accounts_delinq                  NaN\n",
            "num_accounts_120d_past_due               NaN\n",
            "num_accounts_30d_past_due                NaN\n",
            "tax_liens                                NaN\n",
            "application_type                         NaN\n",
            "term                                     NaN\n",
            "disbursement_method                      NaN\n",
            "paid_late_fees                           NaN\n",
            "Name: interest_rate, dtype: float64\n"
          ]
        }
      ]
    },
    {
      "cell_type": "code",
      "source": [
        "print(df_selected.columns)"
      ],
      "metadata": {
        "colab": {
          "base_uri": "https://localhost:8080/"
        },
        "id": "O1vURZ2o5y91",
        "outputId": "8e2b86c9-1edd-40d6-bf04-2d85b011e204"
      },
      "execution_count": 30,
      "outputs": [
        {
          "output_type": "stream",
          "name": "stdout",
          "text": [
            "Index(['interest_rate', 'sub_grade', 'grade', 'paid_interest',\n",
            "       'verified_income', 'debt_to_income_joint', 'inquiries_last_12m',\n",
            "       'loan_to_debt', 'verification_income_joint', 'public_record_bankrupt',\n",
            "       'num_historical_failed_to_pay', 'num_collections_last_12m',\n",
            "       'emp_length', 'debt_to_income', 'initial_listing_status',\n",
            "       'total_collection_amount_ever', 'homeownership', 'annual_income',\n",
            "       'total_credit_utilized', 'months_since_90d_late'],\n",
            "      dtype='object')\n"
          ]
        }
      ]
    },
    {
      "cell_type": "markdown",
      "source": [
        "**XGBoost Model**"
      ],
      "metadata": {
        "id": "6sGLQ0377WyB"
      }
    },
    {
      "cell_type": "code",
      "source": [
        "import xgboost as xgb\n",
        "import numpy as np\n",
        "from sklearn.model_selection import train_test_split\n",
        "from sklearn.metrics import mean_squared_error\n",
        "\n",
        "# split the dataset into training and test sets\n",
        "X = df.drop(['interest_rate', 'loan_status'], axis=1)\n",
        "y = df['interest_rate']\n",
        "# Split the data into training and test sets\n",
        "X_train, X_test, y_train, y_test = train_test_split(X, y, test_size=0.2, random_state=42)\n",
        "\n",
        "# Convert the data into DMatrix format for XGBoost\n",
        "dtrain = xgb.DMatrix(X_train, label=y_train)\n",
        "dtest = xgb.DMatrix(X_test, label=y_test)\n",
        "\n",
        "# Define the XGBoost model parameters\n",
        "params = {'objective': 'reg:squarederror', 'eval_metric': 'rmse'}\n",
        "\n",
        "# Train the XGBoost model\n",
        "model = xgb.train(params, dtrain, num_boost_round=100)\n",
        "\n",
        "# Make predictions on the test set\n",
        "predictions = model.predict(dtest)\n",
        "\n",
        "# evaluate the model's performance\n",
        "print(f'Mean squared error: {mean_squared_error(y_test, predictions)}')\n",
        "print(f'Root mean squared error: {np.sqrt(mean_squared_error(y_test, predictions))}')"
      ],
      "metadata": {
        "colab": {
          "base_uri": "https://localhost:8080/"
        },
        "id": "ubvX1tlbzFAe",
        "outputId": "2da8127d-1d6e-4908-c144-6c833e8e2b7c"
      },
      "execution_count": 33,
      "outputs": [
        {
          "output_type": "stream",
          "name": "stdout",
          "text": [
            "Mean squared error: 0.0004161612240235485\n",
            "Root mean squared error: 0.020400030000555108\n"
          ]
        }
      ]
    },
    {
      "cell_type": "markdown",
      "source": [
        "**XGBoost with GridSearchCV**"
      ],
      "metadata": {
        "id": "-2vgCO5n7rpV"
      }
    },
    {
      "cell_type": "code",
      "source": [
        "from xgboost.sklearn import XGBRegressor\n",
        "from sklearn.model_selection import GridSearchCV\n",
        "\n",
        "xgb2 = XGBRegressor()\n",
        "parameters = {'nthread':[4], \n",
        "              'objective':['reg:linear'],\n",
        "              'learning_rate': [.03, 0.05, .07], \n",
        "              'max_depth': [5, 10, 20],\n",
        "              'min_child_weight': [4],\n",
        "              'silent': [1],\n",
        "              'subsample': [0.7],\n",
        "              'colsample_bytree': [0.7],\n",
        "              'n_estimators': [50,100,500]}\n",
        "\n",
        "xgb_grid = GridSearchCV(xgb2,\n",
        "                        parameters,\n",
        "                        cv = 5,\n",
        "                        n_jobs = 5,\n",
        "                        verbose=True)\n",
        "\n",
        "xgb_grid.fit(X_train,\n",
        "         y_train)\n",
        "\n",
        "print(xgb_grid.best_score_)\n",
        "print(xgb_grid.best_params_)"
      ],
      "metadata": {
        "colab": {
          "base_uri": "https://localhost:8080/"
        },
        "id": "ZgjZz9MgzU9d",
        "outputId": "bb37b4d9-a0dd-471c-f5fa-415d226a7ce0"
      },
      "execution_count": 38,
      "outputs": [
        {
          "output_type": "stream",
          "name": "stdout",
          "text": [
            "Fitting 5 folds for each of 27 candidates, totalling 135 fits\n",
            "0.8468569332229245\n",
            "{'colsample_bytree': 0.7, 'learning_rate': 0.03, 'max_depth': 5, 'min_child_weight': 4, 'n_estimators': 100, 'nthread': 4, 'objective': 'reg:linear', 'silent': 1, 'subsample': 0.7}\n"
          ]
        }
      ]
    },
    {
      "cell_type": "code",
      "source": [
        "best_xgb_model = xgb_grid.best_estimator_\n",
        "predictions = best_xgb_model.predict(X_test)\n",
        "# evaluate the model's performance\n",
        "print(f'Mean squared error: {mean_squared_error(y_test, predictions)}')\n",
        "print(f'Root mean squared error: {np.sqrt(mean_squared_error(y_test, predictions))}')"
      ],
      "metadata": {
        "colab": {
          "base_uri": "https://localhost:8080/"
        },
        "id": "gEs_r7Cf2N20",
        "outputId": "566eeb89-8472-4303-8794-9fe8209a3c5e"
      },
      "execution_count": 46,
      "outputs": [
        {
          "output_type": "stream",
          "name": "stdout",
          "text": [
            "Mean squared error: 0.0008470115780057891\n",
            "Root mean squared error: 0.02910346333352423\n"
          ]
        }
      ]
    },
    {
      "cell_type": "markdown",
      "source": [
        "**Random Forest Model**"
      ],
      "metadata": {
        "id": "-GSYVe8I_vME"
      }
    },
    {
      "cell_type": "code",
      "source": [
        "from sklearn.ensemble import RandomForestRegressor\n",
        "\n",
        "# Define the parameter grid for the random forest model\n",
        "param_grid = {\n",
        "    'n_estimators': [50, 100, 200],\n",
        "    'max_depth': [None, 5, 10],\n",
        "    'min_samples_split': [2, 5, 10],\n",
        "    'min_samples_leaf': [1, 2, 4]\n",
        "}\n",
        "\n",
        "# Create a random forest regressor\n",
        "rf = RandomForestRegressor()\n",
        "\n",
        "# Set up the grid search\n",
        "grid_search = GridSearchCV(estimator=rf, param_grid=param_grid, cv=5)\n",
        "\n",
        "# Fit the grid search to the data\n",
        "grid_search.fit(X_train, y_train)\n",
        "\n",
        "# Print the best hyperparameters found by the grid search\n",
        "print(grid_search.best_params_)\n"
      ],
      "metadata": {
        "colab": {
          "base_uri": "https://localhost:8080/"
        },
        "id": "0DWfx92w_uXm",
        "outputId": "9a01e8df-4f25-4a10-ef30-69464ad262b6"
      },
      "execution_count": 48,
      "outputs": [
        {
          "output_type": "stream",
          "name": "stdout",
          "text": [
            "{'max_depth': None, 'min_samples_leaf': 1, 'min_samples_split': 2, 'n_estimators': 50}\n"
          ]
        }
      ]
    },
    {
      "cell_type": "code",
      "source": [
        "best_rf_model = grid_search.best_estimator_\n",
        "predictions = best_rf_model.predict(X_test)\n",
        "# evaluate the model's performance\n",
        "print(f'Mean squared error: {mean_squared_error(y_test, predictions)}')\n",
        "print(f'Root mean squared error: {np.sqrt(mean_squared_error(y_test, predictions))}')"
      ],
      "metadata": {
        "colab": {
          "base_uri": "https://localhost:8080/"
        },
        "id": "-dYTt-5pBD4T",
        "outputId": "265effd0-8fe6-43c9-937c-c9161b284e92"
      },
      "execution_count": 49,
      "outputs": [
        {
          "output_type": "stream",
          "name": "stdout",
          "text": [
            "Mean squared error: 0.0008463127927932683\n",
            "Root mean squared error: 0.02909145566645417\n"
          ]
        }
      ]
    },
    {
      "cell_type": "code",
      "source": [
        "# create the dataset\n",
        "data = {'XGBoost':0.020400030000555108, 'GridSearch XGBoost':0.02910346333352423\n",
        ", 'Gridsearch Random Forest':0.02909145566645417}\n",
        "Models = list(data.keys())\n",
        "RMSE = list(data.values())\n",
        "  \n",
        "fig = plt.figure(figsize = (10, 5))\n",
        " \n",
        "# creating the bar plot\n",
        "plt.bar(Models, RMSE, color ='darkblue',\n",
        "        width = 0.4)\n",
        " \n",
        "plt.xlabel(\"Models to predict Interest Rate\")\n",
        "plt.ylabel(\"RMSE\")\n",
        "plt.title(\"Final Results\")\n",
        "plt.grid(False)\n",
        "plt.show()"
      ],
      "metadata": {
        "colab": {
          "base_uri": "https://localhost:8080/",
          "height": 350
        },
        "id": "m3ECWQ-IEFPi",
        "outputId": "708eac96-b5a1-4181-eee0-661828dc6256"
      },
      "execution_count": 60,
      "outputs": [
        {
          "output_type": "display_data",
          "data": {
            "text/plain": [
              "<Figure size 720x360 with 1 Axes>"
            ],
            "image/png": "[encoded data removed]"
          },
          "metadata": {
            "needs_background": "light"
          }
        }
      ]
    },
    {
      "cell_type": "markdown",
      "source": [
        "From the above graph we can see that out of all, the original XGBoost regressor model we built was the best performer. There are many potential enhancements that could be made to the XGBoost model for predicting the interest rate in the Lending Club dataset. Some ideas for further improvements include:\n",
        "\n",
        "\n",
        "1.   Feature engineering: There are many ways to improve the predictive power of the model by creating new features from the existing data. For example, you could create interaction terms, aggregate features by grouping, or extract features from the dates.\n",
        "2. Hyperparameter optimization: XGBoost has many hyperparameters that can be adjusted to improve the model's performance. A more thorough grid search or a more advanced optimization method, such as Bayesian optimization, could be used to find the optimal hyperparameter values.\n",
        "\n",
        "3. Ensemble modeling: You could improve the model's performance by combining the predictions of several different models using ensemble methods, such as bagging or boosting.\n",
        "\n",
        "4. Model interpretation: It would be useful to understand why the model is making certain predictions, particularly if the model is being used to make important decisions. Techniques like partial dependence plots and SHAP values can help to provide insight into the model's decision-making process.\n",
        "\n",
        "5. Model validation: To ensure that the model is generalizable and robust, it is important to validate the model using techniques like cross-validation, out-of-sample testing, and holdout validation.\n",
        "\n",
        "Additionally, during the development I assumed that the Lending Club dataset is clean and does not require extensive preprocessing or data cleaning. I also assumed that the goal of the model is to minimize the root mean squared error (RMSE) between the predicted and actual interest rates. \n",
        "\n",
        "If I had more time, I would try out different feature engineering techniques to see if they improve the model's performance. I would also try different models and compare their performance using cross-validation. Additionally, I would perform hyperparameter optimization to fine-tune the model and consider using ensemble methods to combine the predictions of multiple models. Finally, I would carefully validate the model using out-of-sample data and evaluate its performance on a variety of metrics to ensure that it is robust and generalizable.\n",
        "\n",
        "\n",
        "\n",
        "\n",
        "\n"
      ],
      "metadata": {
        "id": "C1u1wBMvE9Kf"
      }
    },
    {
      "cell_type": "code",
      "source": [],
      "metadata": {
        "id": "DFxGfej4F9wV"
      },
      "execution_count": null,
      "outputs": []
    }
  ]
}